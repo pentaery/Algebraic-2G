{
 "cells": [
  {
   "cell_type": "code",
   "execution_count": 3,
   "id": "61690932",
   "metadata": {},
   "outputs": [
    {
     "name": "stdout",
     "output_type": "stream",
     "text": [
      "Unknown keyword 'MFEM'.\n"
     ]
    },
    {
     "data": {
      "text/html": [
       "<pre style=\"white-space:pre;overflow-x:auto;line-height:normal;font-family:Menlo,'DejaVu Sans Mono',consolas,'Courier New',monospace\"><span style=\"color: #800000; text-decoration-color: #800000; font-weight: bold\">Error:</span><span style=\"color: #800000; text-decoration-color: #800000\"> Couldn't read file data/star.mesh as medit</span>\n",
       "</pre>\n"
      ],
      "text/plain": [
       "\u001b[1;31mError:\u001b[0m\u001b[31m Couldn't read file data/star.mesh as medit\u001b[0m\n"
      ]
     },
     "metadata": {},
     "output_type": "display_data"
    },
    {
     "ename": "SystemExit",
     "evalue": "1",
     "output_type": "error",
     "traceback": [
      "An exception has occurred, use %tb to see the full traceback.\n",
      "\u001b[0;31mSystemExit\u001b[0m\u001b[0;31m:\u001b[0m 1\n"
     ]
    }
   ],
   "source": [
    "import meshio\n",
    "import matplotlib.pyplot as plt\n",
    "import numpy as np\n",
    "\n",
    "# 读取 .msh 文件\n",
    "mesh = meshio.read(\"data/star.mesh\")  \n",
    "\n",
    "# 提取节点坐标和三角形元素\n",
    "points = mesh.points\n",
    "x = points[:, 0]  # x 坐标\n",
    "y = points[:, 1]  # y 坐标\n",
    "triangles = mesh.cells_dict.get(\"triangle\", None)\n",
    "if triangles is None:\n",
    "    raise ValueError(\"文件中没有三角形元素，请检查网格类型\")\n",
    "\n",
    "# 读取分组文件\n",
    "group_file = \"build/src/metis-slepc/clustering.txt\"  \n",
    "groups = []\n",
    "with open(group_file, \"r\") as f:\n",
    "    for line in f:\n",
    "        groups.append(int(line.strip()))  # 假设每行是一个整数\n",
    "\n",
    "# 检查节点数量是否匹配\n",
    "if len(groups) != len(points):\n",
    "    raise ValueError(f\"分组文件中的节点数 ({len(groups)}) 与 .msh 文件中的节点数 ({len(points)}) 不匹配\")\n",
    "\n",
    "# 可视化\n",
    "plt.figure(figsize=(32, 32))\n",
    "\n",
    "# 绘制网格\n",
    "plt.triplot(x, y, triangles, color='gray', linewidth=0.5, alpha=0.5)\n",
    "\n",
    "# 按组别绘制节点，使用不同颜色\n",
    "unique_groups = np.unique(groups)  # 获取所有唯一的组别\n",
    "colors = plt.cm.get_cmap('nipy_spectral', len(unique_groups))  # 使用 tab10 颜色方案\n",
    "for i, group in enumerate(unique_groups):\n",
    "    mask = np.array(groups) == group  # 选择属于当前组的节点\n",
    "    plt.scatter(x[mask], y[mask], c=[colors(i)], label=f\"Group {group}\", s=30)\n",
    "\n",
    "# 添加图例和装饰\n",
    "plt.title(\"Gmsh 2.0 Mesh with Node Groups\")\n",
    "plt.xlabel(\"X\")\n",
    "plt.ylabel(\"Y\")\n",
    "# plt.legend()\n",
    "plt.axis('equal')  # 保持纵横比一致\n",
    "plt.grid(True)\n",
    "plt.show()"
   ]
  },
  {
   "cell_type": "code",
   "execution_count": 6,
   "id": "cf99c8a3",
   "metadata": {},
   "outputs": [
    {
     "name": "stdout",
     "output_type": "stream",
     "text": [
      "True\n"
     ]
    }
   ],
   "source": [
    "import os\n",
    "print(os.path.exists(\"data/rect\"))"
   ]
  }
 ],
 "metadata": {
  "kernelspec": {
   "display_name": "base",
   "language": "python",
   "name": "python3"
  },
  "language_info": {
   "codemirror_mode": {
    "name": "ipython",
    "version": 3
   },
   "file_extension": ".py",
   "mimetype": "text/x-python",
   "name": "python",
   "nbconvert_exporter": "python",
   "pygments_lexer": "ipython3",
   "version": "3.12.9"
  }
 },
 "nbformat": 4,
 "nbformat_minor": 5
}
